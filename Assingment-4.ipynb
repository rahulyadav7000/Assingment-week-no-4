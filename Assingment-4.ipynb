{
 "cells": [
  {
   "cell_type": "markdown",
   "id": "1ad3502a-3579-4f98-8a63-9ba6dd895246",
   "metadata": {},
   "source": [
    "1. What exactly is []?\n",
    "\n",
    "ANSWER\n",
    "\n",
    "The empty list value, which is a list value that contains no items.\n"
   ]
  },
  {
   "cell_type": "markdown",
   "id": "ca4fdfb6-a748-4d88-a251-5f042b58bb9f",
   "metadata": {},
   "source": [
    "2. In a list of values stored in a variable called spam, how would you assign the value & 'hello' as the\n",
    "third value? (Assume [2, 4, 6, 8, 10] are in spam.)\n",
    "\n",
    "ANSWER\n"
   ]
  },
  {
   "cell_type": "code",
   "execution_count": 10,
   "id": "ce5fe7ea-8703-4ab2-bc4b-c4346bb8903a",
   "metadata": {},
   "outputs": [
    {
     "name": "stdout",
     "output_type": "stream",
     "text": [
      "[2, 4, 6, 'hello', 10]\n"
     ]
    }
   ],
   "source": [
    "spam = [2,4,6,8,10]\n",
    "spam[3] = \"hello\"\n",
    "print(spam)\n"
   ]
  },
  {
   "cell_type": "markdown",
   "id": "b0371ab2-7122-44ea-a559-f7510282e340",
   "metadata": {},
   "source": [
    "Let&'s pretend the spam includes the list ['a', ';b', 'c','d'] for the next three queries.\n"
   ]
  },
  {
   "cell_type": "markdown",
   "id": "af98430e-4c97-4053-a2b8-990e9d1dabcd",
   "metadata": {},
   "source": [
    "3. What is the value of spam[int(int('3' * 2) / 11)]?\n",
    "\n",
    "ANSWER\n"
   ]
  },
  {
   "cell_type": "code",
   "execution_count": 9,
   "id": "c1a707e1-2db8-4fc5-b8e9-b4b8cafbc14c",
   "metadata": {},
   "outputs": [
    {
     "data": {
      "text/plain": [
       "'d'"
      ]
     },
     "execution_count": 9,
     "metadata": {},
     "output_type": "execute_result"
    }
   ],
   "source": [
    "spam = [\"a\",\"b\",\"c\",\"d\"]\n",
    "spam[int(int('3'*2) / 11)]"
   ]
  },
  {
   "cell_type": "markdown",
   "id": "4d1f0be6-d7c1-4ccb-8950-b330929e1fb1",
   "metadata": {},
   "source": [
    "4. What is the value of spam[-1]?\n",
    "\n",
    "ANSWER"
   ]
  },
  {
   "cell_type": "code",
   "execution_count": 14,
   "id": "59a240ea-44ec-465d-b165-3e60fd5e2f96",
   "metadata": {},
   "outputs": [
    {
     "data": {
      "text/plain": [
       "'d'"
      ]
     },
     "execution_count": 14,
     "metadata": {},
     "output_type": "execute_result"
    }
   ],
   "source": [
    "spam[-1]"
   ]
  },
  {
   "cell_type": "markdown",
   "id": "1bfc50e2-5823-49af-9c17-343b66633169",
   "metadata": {},
   "source": [
    "5. What is the value of spam[:2]?\n",
    "\n",
    "ANSWER\n",
    "\n",
    "spam[:2] returns all elements in the list spam from 0 to 2 excluding 2\n"
   ]
  },
  {
   "cell_type": "code",
   "execution_count": 15,
   "id": "7ae35f9f-6aec-4778-9f4a-ca2d10814edc",
   "metadata": {},
   "outputs": [
    {
     "data": {
      "text/plain": [
       "['a', 'b']"
      ]
     },
     "execution_count": 15,
     "metadata": {},
     "output_type": "execute_result"
    }
   ],
   "source": [
    "spam[:2]"
   ]
  },
  {
   "cell_type": "markdown",
   "id": "dfda653a-0bf0-4728-91e2-ca378b60eceb",
   "metadata": {},
   "source": [
    "Let's pretend bacon has the list [3.14,'cat',11,'cat',True] for the next three question\n"
   ]
  },
  {
   "cell_type": "markdown",
   "id": "f6e007d9-d009-4eaf-b4b2-bbb43781b845",
   "metadata": {},
   "source": [
    "6. What is the value of bacon.index('cat')?\n",
    "\n",
    "ANSWER \n",
    "\n",
    "The value of bacon.index('cat') is 1 (Note: index method returns the index of first occuerence of 'cat')"
   ]
  },
  {
   "cell_type": "code",
   "execution_count": 1,
   "id": "44568c6c-fc8f-4490-9818-609fc8a0c41d",
   "metadata": {},
   "outputs": [
    {
     "name": "stdout",
     "output_type": "stream",
     "text": [
      "bacon.index('cat') -> 1\n"
     ]
    }
   ],
   "source": [
    "bacon=[3.14,'cat',11,'cat',True]\n",
    "print(\"bacon.index('cat') ->\",bacon.index('cat'))"
   ]
  },
  {
   "cell_type": "markdown",
   "id": "919393c0-a45b-4d8a-a8cf-be1d38f4ed74",
   "metadata": {},
   "source": [
    "7. How does bacon.append(99) change the look of the list value in bacon?\n",
    "\n",
    "ANSWER\n",
    "    \n",
    "The append method adds new elements to the end of the list"
   ]
  },
  {
   "cell_type": "code",
   "execution_count": 2,
   "id": "23a01d96-5917-4452-a56c-1b3f3dfc62ac",
   "metadata": {},
   "outputs": [
    {
     "name": "stdout",
     "output_type": "stream",
     "text": [
      "[3.14, 'cat', 11, 'cat', True]\n",
      "[3.14, 'cat', 11, 'cat', True, 99]\n"
     ]
    }
   ],
   "source": [
    "# Example\n",
    "print(bacon)\n",
    "bacon.append(99) # appends 99 to the end of the list\n",
    "print(bacon)"
   ]
  },
  {
   "cell_type": "markdown",
   "id": "4cb383ce-364a-4fa7-9968-31bdc50939f2",
   "metadata": {},
   "source": [
    "8. How does bacon.remove('cat') change the look of the list in bacon?\n",
    "\n",
    "ANSWER \n",
    "    \n",
    "The remove method removes the first occurence of the element in the list"
   ]
  },
  {
   "cell_type": "code",
   "execution_count": 3,
   "id": "288550bf-3f91-470c-b4d4-34967a85627c",
   "metadata": {},
   "outputs": [
    {
     "name": "stdout",
     "output_type": "stream",
     "text": [
      "[3.14, 'cat', 11, 'cat', True, 99]\n",
      "[3.14, 11, 'cat', True, 99]\n"
     ]
    }
   ],
   "source": [
    "print(bacon)\n",
    "bacon.remove('cat')\n",
    "print(bacon)"
   ]
  },
  {
   "cell_type": "markdown",
   "id": "486353a4-cdbf-4a9d-97fc-55aafa845dad",
   "metadata": {},
   "source": [
    "9. what are the list concatenation and list replication operations?\n",
    "\n",
    "ANSWER \n",
    "    \n",
    "The operator for list concatenation is +, while the operator for replication is *. (This is the same as for strings.)"
   ]
  },
  {
   "cell_type": "code",
   "execution_count": 4,
   "id": "16321fd0-3cd7-4404-8107-fdb3e67481f1",
   "metadata": {},
   "outputs": [
    {
     "name": "stdout",
     "output_type": "stream",
     "text": [
      "['Rahul', 'Dilip', 'Ankit', 'Chirag', 'Nitin', 'Rani', 'Chahat', 'Sonu']\n",
      "['Rani', 'Chahat', 'Sonu', 'Rani', 'Chahat', 'Sonu']\n"
     ]
    }
   ],
   "source": [
    "# Example\n",
    "list_1 = ['Rahul','Dilip','Ankit','Chirag','Nitin']\n",
    "list_2 = ['Rani','Chahat','Sonu']\n",
    "print(list_1 + list_2)    # List Concatenation\n",
    "print(list_2*2)           # List Replication"
   ]
  },
  {
   "cell_type": "markdown",
   "id": "5e671573-df87-446c-bb91-ad6b778a4e94",
   "metadata": {},
   "source": [
    "10. what is the difference between the list method append() and insert()?\n",
    "\n",
    "ANSWER\n",
    "    \n",
    "While append() will add values only to the end of a list, insert() can add them anywhere in the list.\n",
    "\n"
   ]
  },
  {
   "cell_type": "code",
   "execution_count": 5,
   "id": "0e479fff-600c-4755-b16a-707764f801ca",
   "metadata": {},
   "outputs": [
    {
     "name": "stdout",
     "output_type": "stream",
     "text": [
      "[1, 2, 3, 4, 5, 6]\n",
      "[1, 2, 'RAHUL', 3, 4, 5, 6]\n"
     ]
    }
   ],
   "source": [
    "#Examples\n",
    "list = [1,2,3,4,5]\n",
    "list.append(6)\n",
    "print(list)\n",
    "list.insert(2,'RAHUL')\n",
    "print(list)"
   ]
  },
  {
   "cell_type": "markdown",
   "id": "1dc24cde-bbbf-4b63-8ed3-052392ad69a8",
   "metadata": {},
   "source": [
    "11. What are the two methods for removing items from a list?\n",
    "\n",
    "ANSWER\n",
    "    \n",
    "The del statement and the remove() method are two ways to remove values from a list"
   ]
  },
  {
   "cell_type": "markdown",
   "id": "0cfb4546-bf09-43ea-b994-0c8055ffde15",
   "metadata": {},
   "source": [
    "12. Describe how list values and string values are identical.\n",
    "\n",
    "ANSWER\n",
    "    \n",
    "Both lists and strings can be passed to len() function, have indexes and slices, be used in for loops, be concatenated or replicated, and be used with the in and not in operators."
   ]
  },
  {
   "cell_type": "markdown",
   "id": "0f40631d-3081-4d5a-9fe0-4c3943f1f3e2",
   "metadata": {},
   "source": [
    "13. What's the difference between tuples and lists?\n",
    "\n",
    "ANSWER \n",
    "\n",
    "Lists are Mutable, Indexable and Slicable. they can have values added, removed, or changed. Tuples are Immutable but Indexable and Slicable. the tuple values cannot be changed at all. Also, tuples are represented using parentheses, (), while lists use the square brackets, [].\n",
    "\n"
   ]
  },
  {
   "cell_type": "markdown",
   "id": "6413510c-697b-4a86-8e23-4b09d97cf15a",
   "metadata": {},
   "source": [
    "14. How do you type a tuple value that only contains the integer 42?\n",
    "\n",
    "ANSWER\n",
    "\n",
    "(42,) (The trailing comma is mandatory. otherwise its considered as a int by python Interpreter)"
   ]
  },
  {
   "cell_type": "code",
   "execution_count": 6,
   "id": "3e40fe35-3a56-4595-935d-bf5e5c1ee62d",
   "metadata": {},
   "outputs": [
    {
     "name": "stdout",
     "output_type": "stream",
     "text": [
      "<class 'int'>\n",
      "<class 'tuple'>\n"
     ]
    }
   ],
   "source": [
    "tup1=(42)\n",
    "tup2=(42,)\n",
    "print(type(tup1))\n",
    "print(type(tup2))"
   ]
  },
  {
   "cell_type": "markdown",
   "id": "8d9a4daa-992d-4dbc-8f8f-580cbc59844d",
   "metadata": {},
   "source": [
    "15. How do you get a list value's tuple form? How do you get a tuple value's list form?\n",
    "\n",
    "ANSWER\n",
    "\n",
    "The tuple() and list() functions, respectively are used to convert a list to tuple and vice versa"
   ]
  },
  {
   "cell_type": "markdown",
   "id": "c7ba1104-feb4-45fe-99c6-f2a0858be561",
   "metadata": {},
   "source": [
    "16. Variables that \"contain\" list values are not necessarily lists themselves. Instead, what do they contain?\n",
    "\n",
    "ANSWER\n",
    "\n",
    "Variables will contain references to list values rather than list values themselves. But for strings and integer values, variables simply contain the string or integer value.\n"
   ]
  },
  {
   "cell_type": "markdown",
   "id": "1e931528-2d0f-4767-ae31-c32bcf7b06d6",
   "metadata": {},
   "source": [
    "17. How do you distinguish between copy.copy() and copy.deepcopy()?\n",
    "\n",
    "ANSWER\n",
    "\n",
    "The copy.copy() function will do a shallow copy of a list, while the copy.deepcopy() function will do a deep copy of a list. That is, only copy.deepcopy() will duplicate any lists inside the list."
   ]
  },
  {
   "cell_type": "code",
   "execution_count": 8,
   "id": "73246162-2d23-45f5-8874-120fd2cdf451",
   "metadata": {},
   "outputs": [
    {
     "name": "stdout",
     "output_type": "stream",
     "text": [
      "Old list: [[1, 1, 1], [2, 'AA', 2], [3, 3, 3]]\n",
      "New list: [[1, 1, 1], [2, 'AA', 2], [3, 3, 3]]\n"
     ]
    }
   ],
   "source": [
    "#FOR EXAMPLE\n",
    "import copy\n",
    "\n",
    "old_list = [[1, 1, 1], [2, 2, 2], [3, 3, 3]]\n",
    "new_list = copy.copy(old_list)\n",
    "\n",
    "old_list[1][1] = 'AA'\n",
    "\n",
    "print(\"Old list:\", old_list)\n",
    "print(\"New list:\", new_list)"
   ]
  },
  {
   "cell_type": "code",
   "execution_count": 9,
   "id": "d793c448-d09a-4d38-ad44-227bb7ab1196",
   "metadata": {},
   "outputs": [
    {
     "name": "stdout",
     "output_type": "stream",
     "text": [
      "Old list: [[1, 1, 1], [2, 2, 2], [3, 3, 3]]\n",
      "New list: [[1, 1, 1], [2, 2, 2], [3, 3, 3]]\n"
     ]
    }
   ],
   "source": [
    "#FOR EXAMPLE\n",
    "\n",
    "import copy\n",
    "\n",
    "old_list = [[1, 1, 1], [2, 2, 2], [3, 3, 3]]\n",
    "new_list = copy.deepcopy(old_list)\n",
    "\n",
    "print(\"Old list:\", old_list)\n",
    "print(\"New list:\", new_list)"
   ]
  },
  {
   "cell_type": "code",
   "execution_count": null,
   "id": "b6aabda1-04c2-4ff4-971d-b61c79f7c916",
   "metadata": {},
   "outputs": [],
   "source": []
  }
 ],
 "metadata": {
  "kernelspec": {
   "display_name": "Python 3 (ipykernel)",
   "language": "python",
   "name": "python3"
  },
  "language_info": {
   "codemirror_mode": {
    "name": "ipython",
    "version": 3
   },
   "file_extension": ".py",
   "mimetype": "text/x-python",
   "name": "python",
   "nbconvert_exporter": "python",
   "pygments_lexer": "ipython3",
   "version": "3.10.6"
  }
 },
 "nbformat": 4,
 "nbformat_minor": 5
}
